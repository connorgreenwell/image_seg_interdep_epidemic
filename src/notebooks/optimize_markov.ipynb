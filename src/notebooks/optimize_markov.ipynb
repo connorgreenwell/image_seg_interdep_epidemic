{
 "cells": [
  {
   "cell_type": "code",
   "execution_count": 1,
   "metadata": {},
   "outputs": [
    {
     "data": {
      "text/plain": [
       "<module 'dynSIS' from '/mounts/u-amo-d0/ugrad/connor/docs/homework/cs687/project/src/notebooks/dynSIS.py'>"
      ]
     },
     "execution_count": 1,
     "metadata": {},
     "output_type": "execute_result"
    }
   ],
   "source": [
    "import numpy as np\n",
    "\n",
    "import skimage.io as skio\n",
    "import skimage.util as sku\n",
    "import skimage.segmentation as seg\n",
    "from skimage.future import graph\n",
    "import skimage.filters as skf\n",
    "import skimage.color as skc\n",
    "\n",
    "from sklearn.neighbors import LocalOutlierFactor as LOF\n",
    "from sklearn.metrics import adjusted_rand_score\n",
    "\n",
    "import networkx as nx\n",
    "import dynSIS\n",
    "import importlib\n",
    "importlib.reload(dynSIS)"
   ]
  },
  {
   "cell_type": "code",
   "execution_count": 2,
   "metadata": {},
   "outputs": [],
   "source": [
    "def hufbauer_alpha(image, labels, connectivity=2, fudge=1e-8):\n",
    "    rag = graph.RAG(labels, connectivity=connectivity)\n",
    "\n",
    "    for n in rag:\n",
    "        rag.node[n].update({'labels': [n],\n",
    "                            'pixel count': 0,\n",
    "                            'total color': np.array([0, 0, 0],\n",
    "                                                    dtype=np.double)})\n",
    "\n",
    "    for index in np.ndindex(labels.shape):\n",
    "        current = labels[index]\n",
    "        rag.node[current]['pixel count'] += 1\n",
    "        rag.node[current]['total color'] += image[index]\n",
    "\n",
    "    for n in rag:\n",
    "        rag.node[n]['mean color'] = (rag.node[n]['total color'] /\n",
    "                                     rag.node[n]['pixel count'])\n",
    "        rag.node[n]['alpha'] = np.sum(rag.node[n]['mean color'] ** 2)\n",
    "\n",
    "    for x, y, d in rag.edges(data=True):\n",
    "        # TODO: might be wrong, check later\n",
    "        #d['weight'] = 1 / (fudge + (rag.node[x]['alpha'] - rag.node[y]['alpha']) ** 2)\n",
    "        d['weight'] = -((rag.node[x]['alpha'] - rag.node[y]['alpha']) ** 2.)\n",
    "        #d['weight'] = np.log((rag.node[x]['alpha'] - rag.node[y]['alpha']) ** 2.)\n",
    "\n",
    "    return rag"
   ]
  },
  {
   "cell_type": "code",
   "execution_count": 3,
   "metadata": {},
   "outputs": [],
   "source": [
    "def hufbauer_beta(image, labels, connectivity=2):\n",
    "    image = skc.rgb2lab(image)[:, :, [1,2]]\n",
    "    rag = graph.RAG(labels, connectivity=connectivity)\n",
    "\n",
    "    for n in rag:\n",
    "        rag.node[n].update({'labels': [n],\n",
    "                            'pixel count': 0,\n",
    "                            'total hue': np.array([0, 0],\n",
    "                                                    dtype=np.double)})\n",
    "\n",
    "    for index in np.ndindex(labels.shape):\n",
    "        current = labels[index]\n",
    "        rag.node[current]['pixel count'] += 1\n",
    "        rag.node[current]['total hue'] += image[index]\n",
    "\n",
    "    for n in rag:\n",
    "        rag.node[n]['mean hue'] = (rag.node[n]['total hue'] /\n",
    "                                     rag.node[n]['pixel count'])\n",
    "\n",
    "    for x, y, d in rag.edges(data=True):\n",
    "        # TODO: might be wrong, check later\n",
    "        diff = 1 / (1 + (rag.node[x]['mean hue'] - rag.node[y]['mean hue']) ** 2)\n",
    "        diff = np.linalg.norm(diff)\n",
    "        d['weight'] = diff\n",
    "\n",
    "    return rag"
   ]
  },
  {
   "cell_type": "code",
   "execution_count": 4,
   "metadata": {},
   "outputs": [],
   "source": [
    "def normalize_graph(g):\n",
    "    values = []\n",
    "    for _, _, d in g.edges(data=True):\n",
    "        values.append(d[\"weight\"])\n",
    "    values = np.sort(values)\n",
    "    \n",
    "    # outlier smoothing\n",
    "    outliers = LOF().fit_predict(values[:, None])\n",
    "    values =  values[outliers > 0]\n",
    "    min_val, max_val = values.min(), values.max() - values.min()\n",
    "    \n",
    "    for _, _, d in g.edges(data=True):\n",
    "        weight = d[\"weight\"]\n",
    "        \n",
    "        if weight > max_val: \n",
    "            weight = max_val\n",
    "        if weight < min_val:\n",
    "            weight = min_val\n",
    "        weight = (weight - min_val) / max_val\n",
    "        \n",
    "        d[\"weight\"] = weight\n",
    "    \n",
    "    return g"
   ]
  },
  {
   "cell_type": "code",
   "execution_count": 5,
   "metadata": {},
   "outputs": [],
   "source": [
    "def sim_to_horizon(adj, N):\n",
    "    adj = np.matrix(adj)\n",
    "    for n in range(1, N+1):\n",
    "        yield adj ** n"
   ]
  },
  {
   "cell_type": "code",
   "execution_count": 6,
   "metadata": {},
   "outputs": [],
   "source": [
    "def build_adj(img, sps):\n",
    "    num_sps = sps.max() + 1\n",
    "    \n",
    "    rag_a = normalize_graph(hufbauer_alpha(img, sps))\n",
    "    rag_b = normalize_graph(hufbauer_beta(img, sps))\n",
    "    \n",
    "    adj_a = nx.adjacency_matrix(rag_a).todense()\n",
    "    adj_b = nx.adjacency_matrix(rag_b).todense()\n",
    "\n",
    "    adj = np.c_[\n",
    "        np.r_[\n",
    "            adj_a, \n",
    "            np.diag(np.ones(num_sps)) * 0.1,\n",
    "        ],\n",
    "        np.r_[\n",
    "            np.diag(np.ones(num_sps)) * 0.1,\n",
    "            adj_b,\n",
    "        ],\n",
    "    ]\n",
    "    adj[np.diag_indices_from(adj)] += 1\n",
    "    \n",
    "    return adj"
   ]
  },
  {
   "cell_type": "code",
   "execution_count": 7,
   "metadata": {},
   "outputs": [],
   "source": [
    "def segment_proposals_markov(adj, horizon):\n",
    "    num_sps = adj.shape[0] // 2\n",
    "    starts = np.c_[\"c\", np.diag(np.ones(num_sps)), np.diag(np.ones(num_sps))]\n",
    "    reached = starts * adj**horizon\n",
    "\n",
    "    reached = np.array(reached)\n",
    "    reached -= reached.min()\n",
    "    reached /= reached.max()\n",
    "    \n",
    "    return reached.T"
   ]
  },
  {
   "cell_type": "code",
   "execution_count": 8,
   "metadata": {},
   "outputs": [],
   "source": [
    "def merge_proposals(proposals, sps, thresh):\n",
    "    masks = (proposals[sps] > thresh).astype(int)\n",
    "    \n",
    "    base = np.zeros_like(masks[:,:,0])\n",
    "    for mask in np.rollaxis(masks, 2):\n",
    "        base = seg.join_segmentations(base, mask)\n",
    "    return base"
   ]
  },
  {
   "cell_type": "code",
   "execution_count": 9,
   "metadata": {},
   "outputs": [],
   "source": [
    "def markov_method(img, horizon, merge_thresh):\n",
    "    sps = seg.slic(img, slic_zero=True)\n",
    "    adj = build_adj(img, sps)\n",
    "    proposals = segment_proposals_markov(adj, horizon)\n",
    "    segmentation = merge_proposals(proposals, sps, merge_thresh)\n",
    "    return segmentation"
   ]
  },
  {
   "cell_type": "code",
   "execution_count": 10,
   "metadata": {},
   "outputs": [],
   "source": [
    "import tqdm\n",
    "import dataset\n",
    "import itertools as it"
   ]
  },
  {
   "cell_type": "code",
   "execution_count": 11,
   "metadata": {},
   "outputs": [
    {
     "name": "stdout",
     "output_type": "stream",
     "text": [
      "building dataset...\n"
     ]
    },
    {
     "name": "stderr",
     "output_type": "stream",
     "text": [
      "100%|██████████| 30/30 [00:12<00:00,  2.47it/s]\n",
      "30it [02:56,  5.88s/it]\n"
     ]
    }
   ],
   "source": [
    "print(\"building dataset...\")\n",
    "imgs, anno = dataset.make_dataset(limit=30)\n",
    "all_sps = [\n",
    "    seg.slic(img, slic_zero=True)\n",
    "    for img in tqdm.tqdm(imgs)\n",
    "]\n",
    "all_adj = [\n",
    "    build_adj(img, sps)\n",
    "    for img, sps in tqdm.tqdm(zip(imgs, all_sps))\n",
    "]"
   ]
  },
  {
   "cell_type": "code",
   "execution_count": 12,
   "metadata": {},
   "outputs": [
    {
     "data": {
      "text/plain": [
       "30"
      ]
     },
     "execution_count": 12,
     "metadata": {},
     "output_type": "execute_result"
    }
   ],
   "source": [
    "len(all_adj)"
   ]
  },
  {
   "cell_type": "code",
   "execution_count": 18,
   "metadata": {},
   "outputs": [],
   "source": [
    "#transmission_range = np.linspace(0., 1., 5, endpoint=True)\n",
    "horizon_range = np.arange(20, 90, 10)\n",
    "thresh_range = np.linspace(0.1, 0.9, 8, endpoint=True)"
   ]
  },
  {
   "cell_type": "code",
   "execution_count": 19,
   "metadata": {},
   "outputs": [
    {
     "data": {
      "text/plain": [
       "56"
      ]
     },
     "execution_count": 19,
     "metadata": {},
     "output_type": "execute_result"
    }
   ],
   "source": [
    "len(list(it.product(horizon_range, thresh_range)))"
   ]
  },
  {
   "cell_type": "code",
   "execution_count": 14,
   "metadata": {},
   "outputs": [
    {
     "name": "stderr",
     "output_type": "stream",
     "text": [
      "100%|██████████| 16/16 [00:02<00:00,  7.65it/s]\n"
     ]
    }
   ],
   "source": [
    "all_props = [\n",
    "    [\n",
    "        segment_proposals_markov(adj, horizon)\n",
    "        for adj, sps in zip(all_adj, all_sps)\n",
    "    ]\n",
    "    for horizon in tqdm.tqdm(horizon_range)\n",
    "]"
   ]
  },
  {
   "cell_type": "code",
   "execution_count": 15,
   "metadata": {},
   "outputs": [
    {
     "name": "stderr",
     "output_type": "stream",
     "text": [
      "0it [00:00, ?it/s]/u/amo-d0/ugrad/connor/software/anaconda/lib/python3.6/site-packages/skimage/segmentation/_join.py:118: FutureWarning: Conversion of the second argument of issubdtype from `int` to `np.signedinteger` is deprecated. In future, it will be treated as `np.int64 == np.dtype(int).type`.\n",
      "  if not np.issubdtype(label_field.dtype, np.int):\n",
      "48it [46:47, 58.50s/it]"
     ]
    },
    {
     "ename": "KeyboardInterrupt",
     "evalue": "",
     "output_type": "error",
     "traceback": [
      "\u001b[0;31m---------------------------------------------------------------------------\u001b[0m",
      "\u001b[0;31mKeyboardInterrupt\u001b[0m                         Traceback (most recent call last)",
      "\u001b[0;32m<ipython-input-15-af76c31515ed>\u001b[0m in \u001b[0;36m<module>\u001b[0;34m()\u001b[0m\n\u001b[1;32m      9\u001b[0m         \u001b[0;32mfor\u001b[0m \u001b[0mprop\u001b[0m\u001b[0;34m,\u001b[0m \u001b[0msps\u001b[0m\u001b[0;34m,\u001b[0m \u001b[0mann\u001b[0m \u001b[0;32min\u001b[0m \u001b[0mzip\u001b[0m\u001b[0;34m(\u001b[0m\u001b[0mprops\u001b[0m\u001b[0;34m,\u001b[0m \u001b[0mall_sps\u001b[0m\u001b[0;34m,\u001b[0m \u001b[0manno\u001b[0m\u001b[0;34m)\u001b[0m\u001b[0;34m\u001b[0m\u001b[0m\n\u001b[1;32m     10\u001b[0m     ])\n\u001b[0;32m---> 11\u001b[0;31m     \u001b[0;32mfor\u001b[0m \u001b[0mprops\u001b[0m\u001b[0;34m,\u001b[0m \u001b[0mthresh\u001b[0m \u001b[0;32min\u001b[0m \u001b[0mtqdm\u001b[0m\u001b[0;34m.\u001b[0m\u001b[0mtqdm\u001b[0m\u001b[0;34m(\u001b[0m\u001b[0mit\u001b[0m\u001b[0;34m.\u001b[0m\u001b[0mproduct\u001b[0m\u001b[0;34m(\u001b[0m\u001b[0mall_props\u001b[0m\u001b[0;34m,\u001b[0m \u001b[0mthresh_range\u001b[0m\u001b[0;34m)\u001b[0m\u001b[0;34m)\u001b[0m\u001b[0;34m\u001b[0m\u001b[0m\n\u001b[0m\u001b[1;32m     12\u001b[0m ]\n",
      "\u001b[0;32m<ipython-input-15-af76c31515ed>\u001b[0m in \u001b[0;36m<listcomp>\u001b[0;34m(.0)\u001b[0m\n\u001b[1;32m      9\u001b[0m         \u001b[0;32mfor\u001b[0m \u001b[0mprop\u001b[0m\u001b[0;34m,\u001b[0m \u001b[0msps\u001b[0m\u001b[0;34m,\u001b[0m \u001b[0mann\u001b[0m \u001b[0;32min\u001b[0m \u001b[0mzip\u001b[0m\u001b[0;34m(\u001b[0m\u001b[0mprops\u001b[0m\u001b[0;34m,\u001b[0m \u001b[0mall_sps\u001b[0m\u001b[0;34m,\u001b[0m \u001b[0manno\u001b[0m\u001b[0;34m)\u001b[0m\u001b[0;34m\u001b[0m\u001b[0m\n\u001b[1;32m     10\u001b[0m     ])\n\u001b[0;32m---> 11\u001b[0;31m     \u001b[0;32mfor\u001b[0m \u001b[0mprops\u001b[0m\u001b[0;34m,\u001b[0m \u001b[0mthresh\u001b[0m \u001b[0;32min\u001b[0m \u001b[0mtqdm\u001b[0m\u001b[0;34m.\u001b[0m\u001b[0mtqdm\u001b[0m\u001b[0;34m(\u001b[0m\u001b[0mit\u001b[0m\u001b[0;34m.\u001b[0m\u001b[0mproduct\u001b[0m\u001b[0;34m(\u001b[0m\u001b[0mall_props\u001b[0m\u001b[0;34m,\u001b[0m \u001b[0mthresh_range\u001b[0m\u001b[0;34m)\u001b[0m\u001b[0;34m)\u001b[0m\u001b[0;34m\u001b[0m\u001b[0m\n\u001b[0m\u001b[1;32m     12\u001b[0m ]\n",
      "\u001b[0;32m<ipython-input-15-af76c31515ed>\u001b[0m in \u001b[0;36m<listcomp>\u001b[0;34m(.0)\u001b[0m\n\u001b[1;32m      7\u001b[0m                 \u001b[0msps\u001b[0m\u001b[0;34m,\u001b[0m\u001b[0;34m\u001b[0m\u001b[0m\n\u001b[1;32m      8\u001b[0m                 thresh).flat)\n\u001b[0;32m----> 9\u001b[0;31m         \u001b[0;32mfor\u001b[0m \u001b[0mprop\u001b[0m\u001b[0;34m,\u001b[0m \u001b[0msps\u001b[0m\u001b[0;34m,\u001b[0m \u001b[0mann\u001b[0m \u001b[0;32min\u001b[0m \u001b[0mzip\u001b[0m\u001b[0;34m(\u001b[0m\u001b[0mprops\u001b[0m\u001b[0;34m,\u001b[0m \u001b[0mall_sps\u001b[0m\u001b[0;34m,\u001b[0m \u001b[0manno\u001b[0m\u001b[0;34m)\u001b[0m\u001b[0;34m\u001b[0m\u001b[0m\n\u001b[0m\u001b[1;32m     10\u001b[0m     ])\n\u001b[1;32m     11\u001b[0m     \u001b[0;32mfor\u001b[0m \u001b[0mprops\u001b[0m\u001b[0;34m,\u001b[0m \u001b[0mthresh\u001b[0m \u001b[0;32min\u001b[0m \u001b[0mtqdm\u001b[0m\u001b[0;34m.\u001b[0m\u001b[0mtqdm\u001b[0m\u001b[0;34m(\u001b[0m\u001b[0mit\u001b[0m\u001b[0;34m.\u001b[0m\u001b[0mproduct\u001b[0m\u001b[0;34m(\u001b[0m\u001b[0mall_props\u001b[0m\u001b[0;34m,\u001b[0m \u001b[0mthresh_range\u001b[0m\u001b[0;34m)\u001b[0m\u001b[0;34m)\u001b[0m\u001b[0;34m\u001b[0m\u001b[0m\n",
      "\u001b[0;32m<ipython-input-8-cc093807315e>\u001b[0m in \u001b[0;36mmerge_proposals\u001b[0;34m(proposals, sps, thresh)\u001b[0m\n\u001b[1;32m      4\u001b[0m     \u001b[0mbase\u001b[0m \u001b[0;34m=\u001b[0m \u001b[0mnp\u001b[0m\u001b[0;34m.\u001b[0m\u001b[0mzeros_like\u001b[0m\u001b[0;34m(\u001b[0m\u001b[0mmasks\u001b[0m\u001b[0;34m[\u001b[0m\u001b[0;34m:\u001b[0m\u001b[0;34m,\u001b[0m\u001b[0;34m:\u001b[0m\u001b[0;34m,\u001b[0m\u001b[0;36m0\u001b[0m\u001b[0;34m]\u001b[0m\u001b[0;34m)\u001b[0m\u001b[0;34m\u001b[0m\u001b[0m\n\u001b[1;32m      5\u001b[0m     \u001b[0;32mfor\u001b[0m \u001b[0mmask\u001b[0m \u001b[0;32min\u001b[0m \u001b[0mnp\u001b[0m\u001b[0;34m.\u001b[0m\u001b[0mrollaxis\u001b[0m\u001b[0;34m(\u001b[0m\u001b[0mmasks\u001b[0m\u001b[0;34m,\u001b[0m \u001b[0;36m2\u001b[0m\u001b[0;34m)\u001b[0m\u001b[0;34m:\u001b[0m\u001b[0;34m\u001b[0m\u001b[0m\n\u001b[0;32m----> 6\u001b[0;31m         \u001b[0mbase\u001b[0m \u001b[0;34m=\u001b[0m \u001b[0mseg\u001b[0m\u001b[0;34m.\u001b[0m\u001b[0mjoin_segmentations\u001b[0m\u001b[0;34m(\u001b[0m\u001b[0mbase\u001b[0m\u001b[0;34m,\u001b[0m \u001b[0mmask\u001b[0m\u001b[0;34m)\u001b[0m\u001b[0;34m\u001b[0m\u001b[0m\n\u001b[0m\u001b[1;32m      7\u001b[0m     \u001b[0;32mreturn\u001b[0m \u001b[0mbase\u001b[0m\u001b[0;34m\u001b[0m\u001b[0m\n",
      "\u001b[0;32m~/software/anaconda/lib/python3.6/site-packages/skimage/segmentation/_join.py\u001b[0m in \u001b[0;36mjoin_segmentations\u001b[0;34m(s1, s2)\u001b[0m\n\u001b[1;32m     37\u001b[0m         raise ValueError(\"Cannot join segmentations of different shape. \" +\n\u001b[1;32m     38\u001b[0m                          \"s1.shape: %s, s2.shape: %s\" % (s1.shape, s2.shape))\n\u001b[0;32m---> 39\u001b[0;31m     \u001b[0ms1\u001b[0m \u001b[0;34m=\u001b[0m \u001b[0mrelabel_sequential\u001b[0m\u001b[0;34m(\u001b[0m\u001b[0ms1\u001b[0m\u001b[0;34m)\u001b[0m\u001b[0;34m[\u001b[0m\u001b[0;36m0\u001b[0m\u001b[0;34m]\u001b[0m\u001b[0;34m\u001b[0m\u001b[0m\n\u001b[0m\u001b[1;32m     40\u001b[0m     \u001b[0ms2\u001b[0m \u001b[0;34m=\u001b[0m \u001b[0mrelabel_sequential\u001b[0m\u001b[0;34m(\u001b[0m\u001b[0ms2\u001b[0m\u001b[0;34m)\u001b[0m\u001b[0;34m[\u001b[0m\u001b[0;36m0\u001b[0m\u001b[0;34m]\u001b[0m\u001b[0;34m\u001b[0m\u001b[0m\n\u001b[1;32m     41\u001b[0m     \u001b[0mj\u001b[0m \u001b[0;34m=\u001b[0m \u001b[0;34m(\u001b[0m\u001b[0ms2\u001b[0m\u001b[0;34m.\u001b[0m\u001b[0mmax\u001b[0m\u001b[0;34m(\u001b[0m\u001b[0;34m)\u001b[0m \u001b[0;34m+\u001b[0m \u001b[0;36m1\u001b[0m\u001b[0;34m)\u001b[0m \u001b[0;34m*\u001b[0m \u001b[0ms1\u001b[0m \u001b[0;34m+\u001b[0m \u001b[0ms2\u001b[0m\u001b[0;34m\u001b[0m\u001b[0m\n",
      "\u001b[0;32m~/software/anaconda/lib/python3.6/site-packages/skimage/segmentation/_join.py\u001b[0m in \u001b[0;36mrelabel_sequential\u001b[0;34m(label_field, offset)\u001b[0m\n\u001b[1;32m    120\u001b[0m         \u001b[0mlabel_field\u001b[0m \u001b[0;34m=\u001b[0m \u001b[0mlabel_field\u001b[0m\u001b[0;34m.\u001b[0m\u001b[0mastype\u001b[0m\u001b[0;34m(\u001b[0m\u001b[0mnew_type\u001b[0m\u001b[0;34m)\u001b[0m\u001b[0;34m\u001b[0m\u001b[0m\n\u001b[1;32m    121\u001b[0m         \u001b[0mm\u001b[0m \u001b[0;34m=\u001b[0m \u001b[0mm\u001b[0m\u001b[0;34m.\u001b[0m\u001b[0mastype\u001b[0m\u001b[0;34m(\u001b[0m\u001b[0mnew_type\u001b[0m\u001b[0;34m)\u001b[0m  \u001b[0;31m# Ensures m is an integer\u001b[0m\u001b[0;34m\u001b[0m\u001b[0m\n\u001b[0;32m--> 122\u001b[0;31m     \u001b[0mlabels\u001b[0m \u001b[0;34m=\u001b[0m \u001b[0mnp\u001b[0m\u001b[0;34m.\u001b[0m\u001b[0munique\u001b[0m\u001b[0;34m(\u001b[0m\u001b[0mlabel_field\u001b[0m\u001b[0;34m)\u001b[0m\u001b[0;34m\u001b[0m\u001b[0m\n\u001b[0m\u001b[1;32m    123\u001b[0m     \u001b[0mlabels0\u001b[0m \u001b[0;34m=\u001b[0m \u001b[0mlabels\u001b[0m\u001b[0;34m[\u001b[0m\u001b[0mlabels\u001b[0m \u001b[0;34m!=\u001b[0m \u001b[0;36m0\u001b[0m\u001b[0;34m]\u001b[0m\u001b[0;34m\u001b[0m\u001b[0m\n\u001b[1;32m    124\u001b[0m     \u001b[0;32mif\u001b[0m \u001b[0mm\u001b[0m \u001b[0;34m==\u001b[0m \u001b[0mlen\u001b[0m\u001b[0;34m(\u001b[0m\u001b[0mlabels0\u001b[0m\u001b[0;34m)\u001b[0m\u001b[0;34m:\u001b[0m  \u001b[0;31m# nothing to do, already 1...n labels\u001b[0m\u001b[0;34m\u001b[0m\u001b[0m\n",
      "\u001b[0;32m~/software/anaconda/lib/python3.6/site-packages/numpy/lib/arraysetops.py\u001b[0m in \u001b[0;36munique\u001b[0;34m(ar, return_index, return_inverse, return_counts, axis)\u001b[0m\n\u001b[1;32m    221\u001b[0m     \u001b[0mar\u001b[0m \u001b[0;34m=\u001b[0m \u001b[0mnp\u001b[0m\u001b[0;34m.\u001b[0m\u001b[0masanyarray\u001b[0m\u001b[0;34m(\u001b[0m\u001b[0mar\u001b[0m\u001b[0;34m)\u001b[0m\u001b[0;34m\u001b[0m\u001b[0m\n\u001b[1;32m    222\u001b[0m     \u001b[0;32mif\u001b[0m \u001b[0maxis\u001b[0m \u001b[0;32mis\u001b[0m \u001b[0;32mNone\u001b[0m\u001b[0;34m:\u001b[0m\u001b[0;34m\u001b[0m\u001b[0m\n\u001b[0;32m--> 223\u001b[0;31m         \u001b[0;32mreturn\u001b[0m \u001b[0m_unique1d\u001b[0m\u001b[0;34m(\u001b[0m\u001b[0mar\u001b[0m\u001b[0;34m,\u001b[0m \u001b[0mreturn_index\u001b[0m\u001b[0;34m,\u001b[0m \u001b[0mreturn_inverse\u001b[0m\u001b[0;34m,\u001b[0m \u001b[0mreturn_counts\u001b[0m\u001b[0;34m)\u001b[0m\u001b[0;34m\u001b[0m\u001b[0m\n\u001b[0m\u001b[1;32m    224\u001b[0m     \u001b[0;32mif\u001b[0m \u001b[0;32mnot\u001b[0m \u001b[0;34m(\u001b[0m\u001b[0;34m-\u001b[0m\u001b[0mar\u001b[0m\u001b[0;34m.\u001b[0m\u001b[0mndim\u001b[0m \u001b[0;34m<=\u001b[0m \u001b[0maxis\u001b[0m \u001b[0;34m<\u001b[0m \u001b[0mar\u001b[0m\u001b[0;34m.\u001b[0m\u001b[0mndim\u001b[0m\u001b[0;34m)\u001b[0m\u001b[0;34m:\u001b[0m\u001b[0;34m\u001b[0m\u001b[0m\n\u001b[1;32m    225\u001b[0m         \u001b[0;32mraise\u001b[0m \u001b[0mValueError\u001b[0m\u001b[0;34m(\u001b[0m\u001b[0;34m'Invalid axis kwarg specified for unique'\u001b[0m\u001b[0;34m)\u001b[0m\u001b[0;34m\u001b[0m\u001b[0m\n",
      "\u001b[0;32m~/software/anaconda/lib/python3.6/site-packages/numpy/lib/arraysetops.py\u001b[0m in \u001b[0;36m_unique1d\u001b[0;34m(ar, return_index, return_inverse, return_counts)\u001b[0m\n\u001b[1;32m    281\u001b[0m         \u001b[0maux\u001b[0m \u001b[0;34m=\u001b[0m \u001b[0mar\u001b[0m\u001b[0;34m[\u001b[0m\u001b[0mperm\u001b[0m\u001b[0;34m]\u001b[0m\u001b[0;34m\u001b[0m\u001b[0m\n\u001b[1;32m    282\u001b[0m     \u001b[0;32melse\u001b[0m\u001b[0;34m:\u001b[0m\u001b[0;34m\u001b[0m\u001b[0m\n\u001b[0;32m--> 283\u001b[0;31m         \u001b[0mar\u001b[0m\u001b[0;34m.\u001b[0m\u001b[0msort\u001b[0m\u001b[0;34m(\u001b[0m\u001b[0;34m)\u001b[0m\u001b[0;34m\u001b[0m\u001b[0m\n\u001b[0m\u001b[1;32m    284\u001b[0m         \u001b[0maux\u001b[0m \u001b[0;34m=\u001b[0m \u001b[0mar\u001b[0m\u001b[0;34m\u001b[0m\u001b[0m\n\u001b[1;32m    285\u001b[0m     \u001b[0mflag\u001b[0m \u001b[0;34m=\u001b[0m \u001b[0mnp\u001b[0m\u001b[0;34m.\u001b[0m\u001b[0mconcatenate\u001b[0m\u001b[0;34m(\u001b[0m\u001b[0;34m(\u001b[0m\u001b[0;34m[\u001b[0m\u001b[0;32mTrue\u001b[0m\u001b[0;34m]\u001b[0m\u001b[0;34m,\u001b[0m \u001b[0maux\u001b[0m\u001b[0;34m[\u001b[0m\u001b[0;36m1\u001b[0m\u001b[0;34m:\u001b[0m\u001b[0;34m]\u001b[0m \u001b[0;34m!=\u001b[0m \u001b[0maux\u001b[0m\u001b[0;34m[\u001b[0m\u001b[0;34m:\u001b[0m\u001b[0;34m-\u001b[0m\u001b[0;36m1\u001b[0m\u001b[0;34m]\u001b[0m\u001b[0;34m)\u001b[0m\u001b[0;34m)\u001b[0m\u001b[0;34m\u001b[0m\u001b[0m\n",
      "\u001b[0;31mKeyboardInterrupt\u001b[0m: "
     ]
    }
   ],
   "source": [
    "means = [\n",
    "    np.mean([\n",
    "        adjusted_rand_score(\n",
    "            ann.flat,\n",
    "            merge_proposals(\n",
    "                prop,\n",
    "                sps, \n",
    "                thresh).flat)\n",
    "        for prop, sps, ann in zip(props, all_sps, anno)\n",
    "    ])\n",
    "    for props, thresh in tqdm.tqdm(it.product(all_props, thresh_range))\n",
    "]"
   ]
  },
  {
   "cell_type": "code",
   "execution_count": null,
   "metadata": {},
   "outputs": [],
   "source": [
    "all_params = list(it.product(horizon_range, thresh_range))"
   ]
  },
  {
   "cell_type": "code",
   "execution_count": null,
   "metadata": {},
   "outputs": [],
   "source": [
    "len(means), len(all_params)"
   ]
  },
  {
   "cell_type": "code",
   "execution_count": null,
   "metadata": {},
   "outputs": [],
   "source": [
    "foo"
   ]
  },
  {
   "cell_type": "code",
   "execution_count": null,
   "metadata": {},
   "outputs": [],
   "source": [
    "list(zip(means, all_params))"
   ]
  },
  {
   "cell_type": "code",
   "execution_count": null,
   "metadata": {},
   "outputs": [],
   "source": [
    "from collections import defaultdict as ddict"
   ]
  },
  {
   "cell_type": "code",
   "execution_count": null,
   "metadata": {},
   "outputs": [],
   "source": [
    "horizon_ars, thresh_ars = ddict(list), ddict(list)\n",
    "for (horizon, thresh), ars in zip(all_params, means):\n",
    "    horizon_ars[horizon].append(horizon)    \n",
    "    thresh_ars[thresh].append(ars)"
   ]
  },
  {
   "cell_type": "code",
   "execution_count": null,
   "metadata": {},
   "outputs": [],
   "source": [
    "import matplotlib.pyplot as plt\n",
    "%matplotlib inline"
   ]
  },
  {
   "cell_type": "code",
   "execution_count": null,
   "metadata": {},
   "outputs": [],
   "source": [
    "plt.boxplot(\n",
    "    horizon_ars.values(), \n",
    "    labels=horizon_ars.keys(), \n",
    "    vert=False);\n",
    "plt.xlabel(\"Adjusted Rand Score\")\n",
    "plt.ylabel(\"Epidemic Run Time\")"
   ]
  },
  {
   "cell_type": "code",
   "execution_count": null,
   "metadata": {},
   "outputs": [],
   "source": [
    "plt.boxplot(\n",
    "    thresh_ars.values(), \n",
    "    labels=[\"{:.02f}\".format(thresh) for thresh in thresh_ars.keys()], \n",
    "    vert=False);\n",
    "plt.xlabel(\"Adjusted Rand Score\")\n",
    "plt.ylabel(\"Mask Probability Threshold\")"
   ]
  },
  {
   "cell_type": "code",
   "execution_count": null,
   "metadata": {},
   "outputs": [],
   "source": [
    "all_params[np.argmax(means)]"
   ]
  },
  {
   "cell_type": "code",
   "execution_count": 20,
   "metadata": {},
   "outputs": [],
   "source": [
    "from functools import partial"
   ]
  },
  {
   "cell_type": "code",
   "execution_count": 21,
   "metadata": {},
   "outputs": [],
   "source": [
    "img_eval, ann_eval = dataset.make_dataset(limit=100)"
   ]
  },
  {
   "cell_type": "code",
   "execution_count": 22,
   "metadata": {},
   "outputs": [],
   "source": [
    "best_markov = partial(markov_method, horizon=65, merge_thresh=0.32)"
   ]
  },
  {
   "cell_type": "code",
   "execution_count": 23,
   "metadata": {},
   "outputs": [
    {
     "name": "stderr",
     "output_type": "stream",
     "text": [
      "\n",
      "  0%|          | 0/100 [00:00<?, ?it/s]\u001b[A/u/amo-d0/ugrad/connor/software/anaconda/lib/python3.6/site-packages/skimage/segmentation/_join.py:118: FutureWarning: Conversion of the second argument of issubdtype from `int` to `np.signedinteger` is deprecated. In future, it will be treated as `np.int64 == np.dtype(int).type`.\n",
      "  if not np.issubdtype(label_field.dtype, np.int):\n",
      "\n",
      "  1%|          | 1/100 [00:06<10:36,  6.43s/it]\u001b[A\n",
      "  2%|▏         | 2/100 [00:15<12:17,  7.52s/it]\u001b[A\n",
      "  3%|▎         | 3/100 [00:23<12:43,  7.87s/it]\u001b[A\n",
      "  4%|▍         | 4/100 [00:32<12:56,  8.08s/it]\u001b[A\n",
      "  5%|▌         | 5/100 [00:40<12:55,  8.16s/it]\u001b[A\n",
      "  6%|▌         | 6/100 [00:49<12:57,  8.27s/it]\u001b[A\n",
      "  7%|▋         | 7/100 [00:58<12:55,  8.34s/it]\u001b[A\n",
      "  8%|▊         | 8/100 [01:06<12:40,  8.27s/it]\u001b[A\n",
      "  9%|▉         | 9/100 [01:14<12:38,  8.33s/it]\u001b[A\n",
      " 10%|█         | 10/100 [01:22<12:26,  8.29s/it]\u001b[A\n",
      " 11%|█         | 11/100 [01:30<12:14,  8.25s/it]\u001b[A\n",
      " 12%|█▏        | 12/100 [01:38<12:00,  8.19s/it]\u001b[A\n",
      " 13%|█▎        | 13/100 [01:47<11:57,  8.25s/it]\u001b[A\n",
      " 14%|█▍        | 14/100 [01:55<11:47,  8.22s/it]\u001b[A\n",
      " 15%|█▌        | 15/100 [02:04<11:42,  8.27s/it]\u001b[A\n",
      " 16%|█▌        | 16/100 [02:13<11:41,  8.35s/it]\u001b[A\n",
      " 17%|█▋        | 17/100 [02:22<11:37,  8.40s/it]\u001b[A\n",
      " 18%|█▊        | 18/100 [02:31<11:31,  8.43s/it]\u001b[A\n",
      " 19%|█▉        | 19/100 [02:40<11:25,  8.46s/it]\u001b[A\n",
      " 20%|██        | 20/100 [02:49<11:18,  8.48s/it]\u001b[A\n",
      " 21%|██        | 21/100 [02:58<11:11,  8.51s/it]\u001b[A\n",
      " 22%|██▏       | 22/100 [03:06<11:01,  8.48s/it]\u001b[A\n",
      " 23%|██▎       | 23/100 [03:14<10:50,  8.45s/it]\u001b[A\n",
      " 24%|██▍       | 24/100 [03:21<10:39,  8.41s/it]\u001b[A\n",
      " 25%|██▌       | 25/100 [03:30<10:31,  8.42s/it]\u001b[A\n",
      " 26%|██▌       | 26/100 [03:38<10:20,  8.39s/it]\u001b[A\n",
      " 27%|██▋       | 27/100 [03:46<10:12,  8.39s/it]\u001b[A\n",
      " 28%|██▊       | 28/100 [03:55<10:05,  8.41s/it]\u001b[A\n",
      " 29%|██▉       | 29/100 [04:04<09:58,  8.42s/it]\u001b[A\n",
      " 30%|███       | 30/100 [04:11<09:47,  8.39s/it]\u001b[A\n",
      " 31%|███       | 31/100 [04:19<09:37,  8.36s/it]\u001b[A\n",
      " 32%|███▏      | 32/100 [04:28<09:29,  8.38s/it]\u001b[A\n",
      " 33%|███▎      | 33/100 [04:37<09:22,  8.40s/it]\u001b[A\n",
      " 34%|███▍      | 34/100 [04:45<09:14,  8.40s/it]\u001b[A\n",
      " 35%|███▌      | 35/100 [04:54<09:06,  8.41s/it]\u001b[A\n",
      " 36%|███▌      | 36/100 [05:03<08:58,  8.42s/it]\u001b[A\n",
      " 37%|███▋      | 37/100 [05:12<08:52,  8.45s/it]\u001b[A\n",
      " 38%|███▊      | 38/100 [05:22<08:45,  8.48s/it]\u001b[A\n",
      " 39%|███▉      | 39/100 [05:30<08:36,  8.47s/it]\u001b[A\n",
      " 40%|████      | 40/100 [05:38<08:27,  8.45s/it]\u001b[A\n",
      " 41%|████      | 41/100 [05:46<08:18,  8.44s/it]\u001b[A\n",
      " 42%|████▏     | 42/100 [05:54<08:09,  8.45s/it]\u001b[A\n",
      " 43%|████▎     | 43/100 [06:03<08:02,  8.46s/it]\u001b[A\n",
      " 44%|████▍     | 44/100 [06:12<07:54,  8.47s/it]\u001b[A\n",
      " 45%|████▌     | 45/100 [06:20<07:45,  8.46s/it]\u001b[A\n",
      " 46%|████▌     | 46/100 [06:29<07:37,  8.47s/it]\u001b[A\n",
      " 47%|████▋     | 47/100 [06:38<07:29,  8.47s/it]\u001b[A\n",
      " 48%|████▊     | 48/100 [06:46<07:20,  8.48s/it]\u001b[A\n",
      " 49%|████▉     | 49/100 [06:53<07:10,  8.45s/it]\u001b[A\n",
      " 50%|█████     | 50/100 [06:57<06:57,  8.35s/it]\u001b[A\n",
      " 51%|█████     | 51/100 [07:06<06:49,  8.36s/it]\u001b[A\n",
      " 52%|█████▏    | 52/100 [07:14<06:41,  8.36s/it]\u001b[A\n",
      " 53%|█████▎    | 53/100 [07:22<06:31,  8.34s/it]\u001b[A\n",
      " 54%|█████▍    | 54/100 [07:30<06:23,  8.34s/it]\u001b[A\n",
      " 55%|█████▌    | 55/100 [07:38<06:15,  8.34s/it]\u001b[A\n",
      " 56%|█████▌    | 56/100 [07:46<06:06,  8.33s/it]\u001b[A\n",
      " 57%|█████▋    | 57/100 [07:55<05:58,  8.34s/it]\u001b[A\n",
      " 58%|█████▊    | 58/100 [08:02<05:49,  8.32s/it]\u001b[A\n",
      " 59%|█████▉    | 59/100 [08:11<05:41,  8.33s/it]\u001b[A\n",
      " 60%|██████    | 60/100 [08:19<05:33,  8.33s/it]\u001b[A\n",
      " 61%|██████    | 61/100 [08:27<05:24,  8.32s/it]\u001b[A\n",
      " 62%|██████▏   | 62/100 [08:36<05:16,  8.33s/it]\u001b[A\n",
      " 63%|██████▎   | 63/100 [08:45<05:08,  8.34s/it]\u001b[A\n",
      " 64%|██████▍   | 64/100 [08:54<05:00,  8.35s/it]\u001b[A\n",
      " 65%|██████▌   | 65/100 [09:02<04:51,  8.34s/it]\u001b[A\n",
      " 66%|██████▌   | 66/100 [09:10<04:43,  8.33s/it]\u001b[A\n",
      " 67%|██████▋   | 67/100 [09:18<04:35,  8.34s/it]\u001b[A\n",
      " 68%|██████▊   | 68/100 [09:26<04:26,  8.33s/it]\u001b[A\n",
      " 69%|██████▉   | 69/100 [09:34<04:18,  8.33s/it]\u001b[A\n",
      " 70%|███████   | 70/100 [09:42<04:09,  8.32s/it]\u001b[A\n",
      " 71%|███████   | 71/100 [09:51<04:01,  8.33s/it]\u001b[A\n",
      " 72%|███████▏  | 72/100 [09:54<03:51,  8.26s/it]\u001b[A\n",
      " 73%|███████▎  | 73/100 [10:00<03:41,  8.22s/it]\u001b[A\n",
      " 74%|███████▍  | 74/100 [10:07<03:33,  8.21s/it]\u001b[A\n",
      " 75%|███████▌  | 75/100 [10:15<03:25,  8.21s/it]\u001b[A\n",
      " 76%|███████▌  | 76/100 [10:24<03:17,  8.21s/it]\u001b[A\n",
      " 77%|███████▋  | 77/100 [10:32<03:09,  8.22s/it]\u001b[A\n",
      " 78%|███████▊  | 78/100 [10:41<03:01,  8.23s/it]\u001b[A\n",
      " 79%|███████▉  | 79/100 [10:50<02:52,  8.23s/it]\u001b[A\n",
      " 80%|████████  | 80/100 [10:59<02:44,  8.24s/it]\u001b[A\n",
      " 81%|████████  | 81/100 [11:08<02:36,  8.25s/it]\u001b[A\n",
      " 82%|████████▏ | 82/100 [11:16<02:28,  8.25s/it]\u001b[A\n",
      " 83%|████████▎ | 83/100 [11:25<02:20,  8.26s/it]\u001b[A\n",
      " 84%|████████▍ | 84/100 [11:34<02:12,  8.27s/it]\u001b[A\n",
      " 85%|████████▌ | 85/100 [11:44<02:04,  8.28s/it]\u001b[A\n",
      " 86%|████████▌ | 86/100 [11:51<01:55,  8.28s/it]\u001b[A\n",
      " 87%|████████▋ | 87/100 [11:59<01:47,  8.27s/it]\u001b[A\n",
      " 88%|████████▊ | 88/100 [12:08<01:39,  8.27s/it]\u001b[A\n",
      " 89%|████████▉ | 89/100 [12:16<01:31,  8.28s/it]\u001b[A\n",
      " 90%|█████████ | 90/100 [12:24<01:22,  8.28s/it]\u001b[A\n",
      " 91%|█████████ | 91/100 [12:33<01:14,  8.28s/it]\u001b[A\n",
      " 92%|█████████▏| 92/100 [12:41<01:06,  8.28s/it]\u001b[A\n",
      " 93%|█████████▎| 93/100 [12:49<00:57,  8.28s/it]\u001b[A\n",
      " 94%|█████████▍| 94/100 [12:57<00:49,  8.27s/it]\u001b[A\n",
      " 95%|█████████▌| 95/100 [13:04<00:41,  8.26s/it]\u001b[A\n",
      " 96%|█████████▌| 96/100 [13:12<00:33,  8.25s/it]\u001b[A\n",
      " 97%|█████████▋| 97/100 [13:20<00:24,  8.25s/it]\u001b[A\n",
      " 98%|█████████▊| 98/100 [13:31<00:16,  8.28s/it]\u001b[A\n",
      " 99%|█████████▉| 99/100 [13:38<00:08,  8.27s/it]\u001b[A\n",
      "100%|██████████| 100/100 [13:46<00:00,  8.26s/it]\u001b[A\n",
      "\u001b[A"
     ]
    }
   ],
   "source": [
    "seg_eval = list(map(\n",
    "    best_markov,\n",
    "    tqdm.tqdm(img_eval)\n",
    "))"
   ]
  },
  {
   "cell_type": "code",
   "execution_count": 24,
   "metadata": {},
   "outputs": [],
   "source": [
    "scores = [\n",
    "    adjusted_rand_score(ann.flat, seg.flat)\n",
    "    for ann, seg in zip(ann_eval, seg_eval)\n",
    "]"
   ]
  },
  {
   "cell_type": "code",
   "execution_count": 25,
   "metadata": {},
   "outputs": [],
   "source": [
    "scores = np.array(scores)"
   ]
  },
  {
   "cell_type": "code",
   "execution_count": 26,
   "metadata": {},
   "outputs": [
    {
     "data": {
      "text/plain": [
       "0.05366343400230522"
      ]
     },
     "execution_count": 26,
     "metadata": {},
     "output_type": "execute_result"
    }
   ],
   "source": [
    "np.mean(scores)"
   ]
  },
  {
   "cell_type": "code",
   "execution_count": 30,
   "metadata": {},
   "outputs": [],
   "source": [
    "best = np.argsort(scores)[::-1]"
   ]
  },
  {
   "cell_type": "code",
   "execution_count": 28,
   "metadata": {},
   "outputs": [],
   "source": [
    "import matplotlib.pyplot as plt\n",
    "%matplotlib inline"
   ]
  },
  {
   "cell_type": "code",
   "execution_count": 31,
   "metadata": {},
   "outputs": [
    {
     "data": {
      "image/png": "[encoded data removed]",
      "text/plain": [
       "<matplotlib.figure.Figure at 0x7f71f878b7b8>"
      ]
     },
     "metadata": {},
     "output_type": "display_data"
    }
   ],
   "source": [
    "_, axs = plt.subplots(3, 5)\n",
    "for col, bid in zip(axs.T, best):\n",
    "    col[0].imshow(img_eval[bid])\n",
    "    col[0].set_axis_off()\n",
    "    col[1].matshow(ann_eval[bid])\n",
    "    col[1].set_axis_off()\n",
    "    col[2].matshow(seg_eval[bid])\n",
    "    col[2].set_axis_off()\n",
    "#plt.tight_layout()"
   ]
  },
  {
   "cell_type": "code",
   "execution_count": null,
   "metadata": {},
   "outputs": [],
   "source": []
  }
 ],
 "metadata": {
  "kernelspec": {
   "display_name": "Python [default]",
   "language": "python",
   "name": "python3"
  },
  "language_info": {
   "codemirror_mode": {
    "name": "ipython",
    "version": 3
   },
   "file_extension": ".py",
   "mimetype": "text/x-python",
   "name": "python",
   "nbconvert_exporter": "python",
   "pygments_lexer": "ipython3",
   "version": "3.6.4"
  }
 },
 "nbformat": 4,
 "nbformat_minor": 2
}
