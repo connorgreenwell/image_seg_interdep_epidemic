{
 "cells": [
  {
   "cell_type": "code",
   "execution_count": 1,
   "metadata": {},
   "outputs": [
    {
     "data": {
      "text/plain": [
       "<module 'dynSIS' from '/mounts/u-amo-d0/ugrad/connor/docs/homework/cs687/project/src/notebooks/dynSIS.py'>"
      ]
     },
     "execution_count": 1,
     "metadata": {},
     "output_type": "execute_result"
    }
   ],
   "source": [
    "import numpy as np\n",
    "\n",
    "import skimage.io as skio\n",
    "import skimage.util as sku\n",
    "import skimage.segmentation as seg\n",
    "from skimage.future import graph\n",
    "import skimage.filters as skf\n",
    "import skimage.color as skc\n",
    "\n",
    "from sklearn.neighbors import LocalOutlierFactor as LOF\n",
    "from sklearn.metrics import adjusted_rand_score\n",
    "\n",
    "import networkx as nx\n",
    "import dynSIS\n",
    "import importlib\n",
    "importlib.reload(dynSIS)"
   ]
  },
  {
   "cell_type": "code",
   "execution_count": 2,
   "metadata": {},
   "outputs": [],
   "source": [
    "def hufbauer_alpha(image, labels, connectivity=2, fudge=1e-8):\n",
    "    rag = graph.RAG(labels, connectivity=connectivity)\n",
    "\n",
    "    for n in rag:\n",
    "        rag.node[n].update({'labels': [n],\n",
    "                            'pixel count': 0,\n",
    "                            'total color': np.array([0, 0, 0],\n",
    "                                                    dtype=np.double)})\n",
    "\n",
    "    for index in np.ndindex(labels.shape):\n",
    "        current = labels[index]\n",
    "        rag.node[current]['pixel count'] += 1\n",
    "        rag.node[current]['total color'] += image[index]\n",
    "\n",
    "    for n in rag:\n",
    "        rag.node[n]['mean color'] = (rag.node[n]['total color'] /\n",
    "                                     rag.node[n]['pixel count'])\n",
    "        rag.node[n]['alpha'] = np.sum(rag.node[n]['mean color'] ** 2)\n",
    "\n",
    "    for x, y, d in rag.edges(data=True):\n",
    "        # TODO: might be wrong, check later\n",
    "        #d['weight'] = 1 / (fudge + (rag.node[x]['alpha'] - rag.node[y]['alpha']) ** 2)\n",
    "        d['weight'] = -((rag.node[x]['alpha'] - rag.node[y]['alpha']) ** 2.)\n",
    "        #d['weight'] = np.log((rag.node[x]['alpha'] - rag.node[y]['alpha']) ** 2.)\n",
    "\n",
    "    return rag"
   ]
  },
  {
   "cell_type": "code",
   "execution_count": 3,
   "metadata": {},
   "outputs": [],
   "source": [
    "def hufbauer_beta(image, labels, connectivity=2):\n",
    "    image = skc.rgb2lab(image)[:, :, [1,2]]\n",
    "    rag = graph.RAG(labels, connectivity=connectivity)\n",
    "\n",
    "    for n in rag:\n",
    "        rag.node[n].update({'labels': [n],\n",
    "                            'pixel count': 0,\n",
    "                            'total hue': np.array([0, 0],\n",
    "                                                    dtype=np.double)})\n",
    "\n",
    "    for index in np.ndindex(labels.shape):\n",
    "        current = labels[index]\n",
    "        rag.node[current]['pixel count'] += 1\n",
    "        rag.node[current]['total hue'] += image[index]\n",
    "\n",
    "    for n in rag:\n",
    "        rag.node[n]['mean hue'] = (rag.node[n]['total hue'] /\n",
    "                                     rag.node[n]['pixel count'])\n",
    "\n",
    "    for x, y, d in rag.edges(data=True):\n",
    "        # TODO: might be wrong, check later\n",
    "        diff = 1 / (1 + (rag.node[x]['mean hue'] - rag.node[y]['mean hue']) ** 2)\n",
    "        diff = np.linalg.norm(diff)\n",
    "        d['weight'] = diff\n",
    "\n",
    "    return rag"
   ]
  },
  {
   "cell_type": "code",
   "execution_count": 4,
   "metadata": {},
   "outputs": [],
   "source": [
    "def normalize_graph(g):\n",
    "    values = []\n",
    "    for _, _, d in g.edges(data=True):\n",
    "        values.append(d[\"weight\"])\n",
    "    values = np.sort(values)\n",
    "    \n",
    "    # outlier smoothing\n",
    "    outliers = LOF().fit_predict(values[:, None])\n",
    "    values =  values[outliers > 0]\n",
    "    min_val, max_val = values.min(), values.max() - values.min()\n",
    "    \n",
    "    for _, _, d in g.edges(data=True):\n",
    "        weight = d[\"weight\"]\n",
    "        \n",
    "        if weight > max_val: \n",
    "            weight = max_val\n",
    "        if weight < min_val:\n",
    "            weight = min_val\n",
    "        weight = (weight - min_val) / max_val\n",
    "        \n",
    "        d[\"weight\"] = weight\n",
    "    \n",
    "    return g"
   ]
  },
  {
   "cell_type": "code",
   "execution_count": 5,
   "metadata": {},
   "outputs": [],
   "source": [
    "def sim_to_horizon(adj, N):\n",
    "    adj = np.matrix(adj)\n",
    "    for n in range(1, N+1):\n",
    "        yield adj ** n"
   ]
  },
  {
   "cell_type": "code",
   "execution_count": 6,
   "metadata": {},
   "outputs": [],
   "source": [
    "def build_adj(img, sps):\n",
    "    num_sps = sps.max() + 1\n",
    "    \n",
    "    rag_a = normalize_graph(hufbauer_alpha(img, sps))\n",
    "    rag_b = normalize_graph(hufbauer_beta(img, sps))\n",
    "    \n",
    "    adj_a = nx.adjacency_matrix(rag_a).todense()\n",
    "    adj_b = nx.adjacency_matrix(rag_b).todense()\n",
    "\n",
    "    adj = np.c_[\n",
    "        np.r_[\n",
    "            adj_a, \n",
    "            np.diag(np.ones(num_sps)) * 0.1,\n",
    "        ],\n",
    "        np.r_[\n",
    "            np.diag(np.ones(num_sps)) * 0.1,\n",
    "            adj_b,\n",
    "        ],\n",
    "    ]\n",
    "    adj[np.diag_indices_from(adj)] += 1\n",
    "    \n",
    "    return adj"
   ]
  },
  {
   "cell_type": "code",
   "execution_count": 15,
   "metadata": {},
   "outputs": [],
   "source": [
    "def segment_proposals_epidemic(adj, run_time):\n",
    "    # Run it through the simulator\n",
    "    proposals = dynSIS.dyn_run(\n",
    "        nx.Graph(adj), \n",
    "        samples=108, \n",
    "        run_time=run_time, \n",
    "        init=1)\n",
    "    # Extract the data\n",
    "    proposals = np.array([\n",
    "        np.fromiter(prop.values(), dtype=float) \n",
    "        for prop in proposals\n",
    "    ]).T\n",
    "    # Fold the two layers together\n",
    "    proposals = sum(np.array(np.split(proposals, 2)), 0).T\n",
    "    proposals -= proposals.min()\n",
    "    proposals /= proposals.max()\n",
    "    \n",
    "    return proposals"
   ]
  },
  {
   "cell_type": "code",
   "execution_count": 8,
   "metadata": {},
   "outputs": [],
   "source": [
    "def merge_proposals(proposals, sps, thresh):\n",
    "    masks = (proposals[sps] > thresh).astype(int)\n",
    "    \n",
    "    base = np.zeros_like(masks[:,:,0])\n",
    "    for mask in np.rollaxis(masks, 2):\n",
    "        base = seg.join_segmentations(base, mask)\n",
    "    return base"
   ]
  },
  {
   "cell_type": "code",
   "execution_count": 9,
   "metadata": {},
   "outputs": [],
   "source": [
    "def epidemic_method(img, horizon, merge_thresh):\n",
    "    sps = seg.slic(img, slic_zero=True)\n",
    "    adj = build_adj(img, sps)\n",
    "    proposals = segment_proposals_epidemic(adj, horizon)\n",
    "    segmentation = merge_proposals(proposals, sps, merge_thresh)\n",
    "    return segmentation"
   ]
  },
  {
   "cell_type": "code",
   "execution_count": 10,
   "metadata": {},
   "outputs": [],
   "source": [
    "import tqdm\n",
    "import dataset\n",
    "import itertools as it"
   ]
  },
  {
   "cell_type": "code",
   "execution_count": null,
   "metadata": {},
   "outputs": [
    {
     "name": "stdout",
     "output_type": "stream",
     "text": [
      "building dataset...\n"
     ]
    },
    {
     "name": "stderr",
     "output_type": "stream",
     "text": [
      "\n",
      "  0%|          | 0/50 [00:00<?, ?it/s]\u001b[A\n",
      "  2%|▏         | 1/50 [00:00<00:15,  3.13it/s]\u001b[A\n",
      "  4%|▍         | 2/50 [00:00<00:17,  2.67it/s]\u001b[A\n",
      "  6%|▌         | 3/50 [00:01<00:18,  2.53it/s]\u001b[A\n",
      "  8%|▊         | 4/50 [00:01<00:19,  2.41it/s]\u001b[A\n",
      " 10%|█         | 5/50 [00:02<00:19,  2.35it/s]\u001b[A\n",
      " 12%|█▏        | 6/50 [00:02<00:19,  2.31it/s]\u001b[A\n",
      " 14%|█▍        | 7/50 [00:03<00:18,  2.29it/s]\u001b[A\n",
      " 16%|█▌        | 8/50 [00:03<00:17,  2.35it/s]\u001b[A\n",
      " 18%|█▊        | 9/50 [00:03<00:17,  2.34it/s]\u001b[A\n",
      " 20%|██        | 10/50 [00:04<00:17,  2.35it/s]\u001b[A\n",
      " 22%|██▏       | 11/50 [00:04<00:16,  2.37it/s]\u001b[A\n",
      " 24%|██▍       | 12/50 [00:05<00:15,  2.39it/s]\u001b[A\n",
      " 26%|██▌       | 13/50 [00:05<00:15,  2.38it/s]\u001b[A\n",
      " 28%|██▊       | 14/50 [00:05<00:15,  2.40it/s]\u001b[A\n",
      " 30%|███       | 15/50 [00:06<00:14,  2.39it/s]\u001b[A\n",
      " 32%|███▏      | 16/50 [00:06<00:14,  2.37it/s]\u001b[A\n",
      " 34%|███▍      | 17/50 [00:07<00:13,  2.36it/s]\u001b[A\n",
      " 36%|███▌      | 18/50 [00:07<00:13,  2.36it/s]\u001b[A\n",
      " 38%|███▊      | 19/50 [00:08<00:13,  2.36it/s]\u001b[A\n",
      " 40%|████      | 20/50 [00:08<00:12,  2.36it/s]\u001b[A\n",
      " 42%|████▏     | 21/50 [00:08<00:12,  2.35it/s]\u001b[A\n",
      " 44%|████▍     | 22/50 [00:09<00:11,  2.36it/s]\u001b[A\n",
      " 46%|████▌     | 23/50 [00:09<00:11,  2.37it/s]\u001b[A\n",
      " 48%|████▊     | 24/50 [00:10<00:10,  2.38it/s]\u001b[A\n",
      " 50%|█████     | 25/50 [00:10<00:10,  2.37it/s]\u001b[A\n",
      " 52%|█████▏    | 26/50 [00:10<00:10,  2.38it/s]\u001b[A\n",
      " 54%|█████▍    | 27/50 [00:11<00:09,  2.38it/s]\u001b[A\n",
      " 56%|█████▌    | 28/50 [00:11<00:09,  2.37it/s]\u001b[A\n",
      " 58%|█████▊    | 29/50 [00:12<00:08,  2.37it/s]\u001b[A\n",
      " 60%|██████    | 30/50 [00:12<00:08,  2.38it/s]\u001b[A\n",
      " 62%|██████▏   | 31/50 [00:12<00:07,  2.39it/s]\u001b[A\n",
      " 64%|██████▍   | 32/50 [00:13<00:07,  2.38it/s]\u001b[A\n",
      " 66%|██████▌   | 33/50 [00:13<00:07,  2.38it/s]\u001b[A\n",
      " 68%|██████▊   | 34/50 [00:14<00:06,  2.38it/s]\u001b[A\n",
      " 70%|███████   | 35/50 [00:14<00:06,  2.37it/s]\u001b[A\n",
      " 72%|███████▏  | 36/50 [00:15<00:05,  2.37it/s]\u001b[A\n",
      " 74%|███████▍  | 37/50 [00:15<00:05,  2.37it/s]\u001b[A\n",
      " 76%|███████▌  | 38/50 [00:16<00:05,  2.37it/s]\u001b[A\n",
      " 78%|███████▊  | 39/50 [00:16<00:04,  2.37it/s]\u001b[A\n",
      " 80%|████████  | 40/50 [00:16<00:04,  2.37it/s]\u001b[A\n",
      " 82%|████████▏ | 41/50 [00:17<00:03,  2.38it/s]\u001b[A\n",
      " 84%|████████▍ | 42/50 [00:17<00:03,  2.38it/s]\u001b[A\n",
      " 86%|████████▌ | 43/50 [00:18<00:02,  2.38it/s]\u001b[A\n",
      " 88%|████████▊ | 44/50 [00:18<00:02,  2.38it/s]\u001b[A\n",
      " 90%|█████████ | 45/50 [00:18<00:02,  2.38it/s]\u001b[A\n",
      " 92%|█████████▏| 46/50 [00:19<00:01,  2.38it/s]\u001b[A\n",
      " 94%|█████████▍| 47/50 [00:19<00:01,  2.38it/s]\u001b[A\n",
      " 96%|█████████▌| 48/50 [00:20<00:00,  2.38it/s]\u001b[A\n",
      " 98%|█████████▊| 49/50 [00:20<00:00,  2.38it/s]\u001b[A\n",
      "100%|██████████| 50/50 [00:20<00:00,  2.40it/s]\u001b[A\n",
      "\u001b[A\n",
      "0it [00:00, ?it/s]\u001b[A\n",
      "1it [00:05,  5.19s/it]\u001b[A\n",
      "2it [00:11,  5.70s/it]\u001b[A\n",
      "3it [00:18,  6.12s/it]\u001b[A\n",
      "4it [00:24,  6.24s/it]\u001b[A\n",
      "5it [00:31,  6.31s/it]\u001b[A\n",
      "6it [00:38,  6.36s/it]\u001b[A\n",
      "7it [00:44,  6.39s/it]\u001b[A\n",
      "8it [00:50,  6.29s/it]\u001b[A\n",
      "9it [00:56,  6.33s/it]\u001b[A\n",
      "10it [01:02,  6.30s/it]\u001b[A\n",
      "11it [01:08,  6.27s/it]\u001b[A\n",
      "12it [01:14,  6.22s/it]\u001b[A\n",
      "13it [01:21,  6.25s/it]\u001b[A\n",
      "14it [01:26,  6.21s/it]\u001b[A\n",
      "15it [01:33,  6.22s/it]\u001b[A\n",
      "16it [01:40,  6.29s/it]\u001b[A\n",
      "17it [01:47,  6.31s/it]\u001b[A\n",
      "18it [01:53,  6.32s/it]\u001b[A\n",
      "19it [02:00,  6.33s/it]\u001b[A\n",
      "20it [02:06,  6.32s/it]\u001b[A\n",
      "21it [02:13,  6.34s/it]\u001b[A\n",
      "22it [02:18,  6.31s/it]\u001b[A\n",
      "23it [02:24,  6.28s/it]\u001b[A\n",
      "24it [02:29,  6.24s/it]\u001b[A\n",
      "25it [02:36,  6.26s/it]\u001b[A\n",
      "26it [02:42,  6.25s/it]\u001b[A\n",
      "27it [02:48,  6.26s/it]\u001b[A\n",
      "28it [02:55,  6.26s/it]\u001b[A"
     ]
    }
   ],
   "source": [
    "print(\"building dataset...\")\n",
    "imgs, anno = dataset.make_dataset(limit=50)\n",
    "all_sps = [\n",
    "    seg.slic(img, slic_zero=True)\n",
    "    for img in tqdm.tqdm(imgs)\n",
    "]\n",
    "all_adj = [\n",
    "    build_adj(img, sps)\n",
    "    for img, sps in tqdm.tqdm(zip(imgs, all_sps))\n",
    "]"
   ]
  },
  {
   "cell_type": "code",
   "execution_count": null,
   "metadata": {},
   "outputs": [],
   "source": [
    "#transmission_range = np.linspace(0., 1., 5, endpoint=True)\n",
    "run_time_range = np.array([1, 5, 10, 20, 50])\n",
    "thresh_range = np.linspace(0.1, 0.9, 8, endpoint=True)"
   ]
  },
  {
   "cell_type": "code",
   "execution_count": null,
   "metadata": {},
   "outputs": [],
   "source": [
    "all_props = [\n",
    "    [\n",
    "        segment_proposals_epidemic(adj, run_time)\n",
    "        for adj, sps in zip(all_adj, all_sps)\n",
    "    ]\n",
    "    for run_time in tqdm.tqdm(run_time_range)\n",
    "]"
   ]
  },
  {
   "cell_type": "code",
   "execution_count": null,
   "metadata": {},
   "outputs": [],
   "source": [
    "means = [\n",
    "    np.mean([\n",
    "        adjusted_rand_score(\n",
    "            ann.flat,\n",
    "            merge_proposals(\n",
    "                prop,\n",
    "                sps, \n",
    "                thresh).flat)\n",
    "        for prop, sps, ann in zip(props, all_sps, anno)\n",
    "    ])\n",
    "    for props, thresh in tqdm.tqdm(it.product(all_props, thresh_range))\n",
    "]"
   ]
  },
  {
   "cell_type": "code",
   "execution_count": null,
   "metadata": {},
   "outputs": [],
   "source": [
    "all_params = list(it.product(run_time_range, thresh_range))"
   ]
  },
  {
   "cell_type": "code",
   "execution_count": null,
   "metadata": {},
   "outputs": [],
   "source": [
    "len(means), len(all_params)"
   ]
  },
  {
   "cell_type": "code",
   "execution_count": null,
   "metadata": {},
   "outputs": [],
   "source": [
    "list(zip(means, all_params))"
   ]
  },
  {
   "cell_type": "code",
   "execution_count": null,
   "metadata": {},
   "outputs": [],
   "source": [
    "from collections import defaultdict as ddict"
   ]
  },
  {
   "cell_type": "code",
   "execution_count": null,
   "metadata": {},
   "outputs": [],
   "source": [
    "rt_ars, thresh_ars = ddict(list), ddict(list)\n",
    "for (rt, thresh), ars in zip(all_params, means):\n",
    "    rt_ars[rt].append(ars)    \n",
    "    thresh_ars[thresh].append(ars)"
   ]
  },
  {
   "cell_type": "code",
   "execution_count": null,
   "metadata": {},
   "outputs": [],
   "source": [
    "import matplotlib.pyplot as plt\n",
    "%matplotlib inline"
   ]
  },
  {
   "cell_type": "code",
   "execution_count": 27,
   "metadata": {},
   "outputs": [
    {
     "data": {
      "text/plain": [
       "Text(0,0.5,'Epidemic Run Time')"
      ]
     },
     "execution_count": 27,
     "metadata": {},
     "output_type": "execute_result"
    },
    {
     "data": {
      "image/png": "[encoded data removed]",
      "text/plain": [
       "<matplotlib.figure.Figure at 0x7fc292e08160>"
      ]
     },
     "metadata": {},
     "output_type": "display_data"
    }
   ],
   "source": [
    "plt.boxplot(\n",
    "    rt_ars.values(), \n",
    "    labels=rt_ars.keys(), \n",
    "    vert=False);\n",
    "plt.xlabel(\"Adjusted Rand Score\")\n",
    "plt.ylabel(\"Epidemic Run Time\")"
   ]
  },
  {
   "cell_type": "code",
   "execution_count": 29,
   "metadata": {},
   "outputs": [
    {
     "data": {
      "text/plain": [
       "Text(0,0.5,'Mask Probability Threshold')"
      ]
     },
     "execution_count": 29,
     "metadata": {},
     "output_type": "execute_result"
    },
    {
     "data": {
      "image/png": "[encoded data removed]",
      "text/plain": [
       "<matplotlib.figure.Figure at 0x7fc292c1ef98>"
      ]
     },
     "metadata": {},
     "output_type": "display_data"
    }
   ],
   "source": [
    "plt.boxplot(\n",
    "    thresh_ars.values(), \n",
    "    labels=[\"{:.02f}\".format(thresh) for thresh in thresh_ars.keys()], \n",
    "    vert=False);\n",
    "plt.xlabel(\"Adjusted Rand Score\")\n",
    "plt.ylabel(\"Mask Probability Threshold\")"
   ]
  },
  {
   "cell_type": "code",
   "execution_count": null,
   "metadata": {},
   "outputs": [],
   "source": []
  }
 ],
 "metadata": {
  "kernelspec": {
   "display_name": "Python [default]",
   "language": "python",
   "name": "python3"
  },
  "language_info": {
   "codemirror_mode": {
    "name": "ipython",
    "version": 3
   },
   "file_extension": ".py",
   "mimetype": "text/x-python",
   "name": "python",
   "nbconvert_exporter": "python",
   "pygments_lexer": "ipython3",
   "version": "3.6.4"
  }
 },
 "nbformat": 4,
 "nbformat_minor": 2
}
